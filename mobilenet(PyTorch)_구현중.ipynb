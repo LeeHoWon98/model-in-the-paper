{
  "nbformat": 4,
  "nbformat_minor": 0,
  "metadata": {
    "colab": {
      "provenance": []
    },
    "kernelspec": {
      "name": "python3",
      "display_name": "Python 3"
    },
    "language_info": {
      "name": "python"
    }
  },
  "cells": [
    {
      "cell_type": "code",
      "execution_count": null,
      "metadata": {
        "id": "XVZOzm_MFucO"
      },
      "outputs": [],
      "source": [
        "import torch.nn as nn\n",
        "\n",
        "def mobile(in_dim, out_dim, st = 1):\n",
        "    return nn.Sequential(\n",
        "        nn.Conv2d(in_channels = in_dim, out_channels = out_dim, kernel_size = 3,\n",
        "        stride = st, padding = 1, groups = in_dim),\n",
        "        nn.BatchNorm2d(in_dim),\n",
        "        nn.ReLU(inplace = True),\n",
        "        nn.Conv2d(in_channels = in_dim, out_channels = out_dim, kernel_size = 1,\n",
        "        stride = 1, padding = 0),\n",
        "        nn.BatchNorm2d(in_dim),\n",
        "        nn.ReLU(inplace = True)\n",
        "    )\n",
        "\n",
        "class model(nn.Module):\n",
        "    def __init__(self, num_class = 10):\n",
        "        super(model, self).__init__()\n",
        "        self.Model = nn.Sequential(\n",
        "            nn.Conv2d(in_channels = 3, out_channels = 32, kernel_size = 3,\n",
        "            stride = 2, padding = 1),\n",
        "            nn.BatchNorm2d(32),\n",
        "            nn.ReLU(inplace = True),\n",
        "\n",
        "            mobile(32, 64),\n",
        "            mobile(64, 128, 2),\n",
        "            mobile(128, 128),\n",
        "            mobile(128, 256, 2),\n",
        "            mobile(256, 256),\n",
        "            mobile(256, 512, 2),\n",
        "            mobile(512, 512),\n",
        "            mobile(512, 512),\n",
        "            mobile(512, 512),\n",
        "            mobile(512, 512),\n",
        "            mobile(512, 512),\n",
        "            mobile(512, 1024, 2),\n",
        "            mobile(1024, 1024, 2),\n",
        "\n",
        "            nn.AvgPool2d(7)\n",
        "        )\n",
        "        self.dense = nn.Linear(1024, num_class)"
      ]
    }
  ]
}