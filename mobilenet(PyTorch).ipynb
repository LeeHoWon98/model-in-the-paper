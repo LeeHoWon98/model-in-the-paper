{
  "nbformat": 4,
  "nbformat_minor": 0,
  "metadata": {
    "colab": {
      "provenance": []
    },
    "kernelspec": {
      "name": "python3",
      "display_name": "Python 3"
    },
    "language_info": {
      "name": "python"
    }
  },
  "cells": [
    {
      "cell_type": "code",
      "source": [
        "!pip install torchinfo"
      ],
      "metadata": {
        "colab": {
          "base_uri": "https://localhost:8080/"
        },
        "id": "qQvz2LwEe4f1",
        "outputId": "b89ad113-c509-49ce-ccc8-30b5b88544a0"
      },
      "execution_count": 3,
      "outputs": [
        {
          "output_type": "stream",
          "name": "stdout",
          "text": [
            "Looking in indexes: https://pypi.org/simple, https://us-python.pkg.dev/colab-wheels/public/simple/\n",
            "Collecting torchinfo\n",
            "  Downloading torchinfo-1.7.1-py3-none-any.whl (22 kB)\n",
            "Installing collected packages: torchinfo\n",
            "Successfully installed torchinfo-1.7.1\n"
          ]
        }
      ]
    },
    {
      "cell_type": "code",
      "execution_count": 1,
      "metadata": {
        "id": "XVZOzm_MFucO"
      },
      "outputs": [],
      "source": [
        "import torch.nn as nn\n",
        "\n",
        "def mobile(in_dim, out_dim, st = 1):\n",
        "    return nn.Sequential(\n",
        "        nn.Conv2d(in_channels = in_dim, out_channels = out_dim, kernel_size = 3,\n",
        "        stride = st, padding = 1, groups = in_dim),\n",
        "        nn.BatchNorm2d(in_dim),\n",
        "        nn.ReLU(inplace = True),\n",
        "        nn.Conv2d(in_channels = in_dim, out_channels = out_dim, kernel_size = 1,\n",
        "        stride = 1, padding = 0),\n",
        "        nn.BatchNorm2d(in_dim),\n",
        "        nn.ReLU(inplace = True)\n",
        "    )\n",
        "\n",
        "class model(nn.Module):\n",
        "    def __init__(self, num_class = 10):\n",
        "        super(model, self).__init__()\n",
        "        self.Model = nn.Sequential(\n",
        "            nn.Conv2d(in_channels = 3, out_channels = 32, kernel_size = 3,\n",
        "            stride = 2, padding = 1),\n",
        "            nn.BatchNorm2d(32),\n",
        "            nn.ReLU(inplace = True),\n",
        "\n",
        "            mobile(32, 64),\n",
        "            mobile(64, 128, 2),\n",
        "            mobile(128, 128),\n",
        "            mobile(128, 256, 2),\n",
        "            mobile(256, 256),\n",
        "            mobile(256, 512, 2),\n",
        "            mobile(512, 512),\n",
        "            mobile(512, 512),\n",
        "            mobile(512, 512),\n",
        "            mobile(512, 512),\n",
        "            mobile(512, 512),\n",
        "            mobile(512, 1024, 2),\n",
        "            mobile(1024, 1024, 2),\n",
        "\n",
        "            nn.AvgPool2d(7)\n",
        "        )\n",
        "        self.fc1 = nn.Linear(1024, num_class)\n",
        "\n",
        "    def forward(self, x):\n",
        "      x = self.model(x)\n",
        "      x = x.view(x.size(0), -1)\n",
        "      x = self.fc1(x)\n",
        "      x = F.log_softmax(x)\n",
        "      return x"
      ]
    },
    {
      "cell_type": "code",
      "source": [
        "from torchinfo import summary\n",
        "\n",
        "model = model()\n",
        "summary(model)"
      ],
      "metadata": {
        "colab": {
          "base_uri": "https://localhost:8080/"
        },
        "id": "xL_V1u9jeiVy",
        "outputId": "b1a00d01-5d73-47fe-f464-cb56cac5158d"
      },
      "execution_count": 4,
      "outputs": [
        {
          "output_type": "execute_result",
          "data": {
            "text/plain": [
              "=================================================================\n",
              "Layer (type:depth-idx)                   Param #\n",
              "=================================================================\n",
              "model                                    --\n",
              "├─Sequential: 1-1                        --\n",
              "│    └─Conv2d: 2-1                       896\n",
              "│    └─BatchNorm2d: 2-2                  64\n",
              "│    └─ReLU: 2-3                         --\n",
              "│    └─Sequential: 2-4                   --\n",
              "│    │    └─Conv2d: 3-1                  640\n",
              "│    │    └─BatchNorm2d: 3-2             64\n",
              "│    │    └─ReLU: 3-3                    --\n",
              "│    │    └─Conv2d: 3-4                  2,112\n",
              "│    │    └─BatchNorm2d: 3-5             64\n",
              "│    │    └─ReLU: 3-6                    --\n",
              "│    └─Sequential: 2-5                   --\n",
              "│    │    └─Conv2d: 3-7                  1,280\n",
              "│    │    └─BatchNorm2d: 3-8             128\n",
              "│    │    └─ReLU: 3-9                    --\n",
              "│    │    └─Conv2d: 3-10                 8,320\n",
              "│    │    └─BatchNorm2d: 3-11            128\n",
              "│    │    └─ReLU: 3-12                   --\n",
              "│    └─Sequential: 2-6                   --\n",
              "│    │    └─Conv2d: 3-13                 1,280\n",
              "│    │    └─BatchNorm2d: 3-14            256\n",
              "│    │    └─ReLU: 3-15                   --\n",
              "│    │    └─Conv2d: 3-16                 16,512\n",
              "│    │    └─BatchNorm2d: 3-17            256\n",
              "│    │    └─ReLU: 3-18                   --\n",
              "│    └─Sequential: 2-7                   --\n",
              "│    │    └─Conv2d: 3-19                 2,560\n",
              "│    │    └─BatchNorm2d: 3-20            256\n",
              "│    │    └─ReLU: 3-21                   --\n",
              "│    │    └─Conv2d: 3-22                 33,024\n",
              "│    │    └─BatchNorm2d: 3-23            256\n",
              "│    │    └─ReLU: 3-24                   --\n",
              "│    └─Sequential: 2-8                   --\n",
              "│    │    └─Conv2d: 3-25                 2,560\n",
              "│    │    └─BatchNorm2d: 3-26            512\n",
              "│    │    └─ReLU: 3-27                   --\n",
              "│    │    └─Conv2d: 3-28                 65,792\n",
              "│    │    └─BatchNorm2d: 3-29            512\n",
              "│    │    └─ReLU: 3-30                   --\n",
              "│    └─Sequential: 2-9                   --\n",
              "│    │    └─Conv2d: 3-31                 5,120\n",
              "│    │    └─BatchNorm2d: 3-32            512\n",
              "│    │    └─ReLU: 3-33                   --\n",
              "│    │    └─Conv2d: 3-34                 131,584\n",
              "│    │    └─BatchNorm2d: 3-35            512\n",
              "│    │    └─ReLU: 3-36                   --\n",
              "│    └─Sequential: 2-10                  --\n",
              "│    │    └─Conv2d: 3-37                 5,120\n",
              "│    │    └─BatchNorm2d: 3-38            1,024\n",
              "│    │    └─ReLU: 3-39                   --\n",
              "│    │    └─Conv2d: 3-40                 262,656\n",
              "│    │    └─BatchNorm2d: 3-41            1,024\n",
              "│    │    └─ReLU: 3-42                   --\n",
              "│    └─Sequential: 2-11                  --\n",
              "│    │    └─Conv2d: 3-43                 5,120\n",
              "│    │    └─BatchNorm2d: 3-44            1,024\n",
              "│    │    └─ReLU: 3-45                   --\n",
              "│    │    └─Conv2d: 3-46                 262,656\n",
              "│    │    └─BatchNorm2d: 3-47            1,024\n",
              "│    │    └─ReLU: 3-48                   --\n",
              "│    └─Sequential: 2-12                  --\n",
              "│    │    └─Conv2d: 3-49                 5,120\n",
              "│    │    └─BatchNorm2d: 3-50            1,024\n",
              "│    │    └─ReLU: 3-51                   --\n",
              "│    │    └─Conv2d: 3-52                 262,656\n",
              "│    │    └─BatchNorm2d: 3-53            1,024\n",
              "│    │    └─ReLU: 3-54                   --\n",
              "│    └─Sequential: 2-13                  --\n",
              "│    │    └─Conv2d: 3-55                 5,120\n",
              "│    │    └─BatchNorm2d: 3-56            1,024\n",
              "│    │    └─ReLU: 3-57                   --\n",
              "│    │    └─Conv2d: 3-58                 262,656\n",
              "│    │    └─BatchNorm2d: 3-59            1,024\n",
              "│    │    └─ReLU: 3-60                   --\n",
              "│    └─Sequential: 2-14                  --\n",
              "│    │    └─Conv2d: 3-61                 5,120\n",
              "│    │    └─BatchNorm2d: 3-62            1,024\n",
              "│    │    └─ReLU: 3-63                   --\n",
              "│    │    └─Conv2d: 3-64                 262,656\n",
              "│    │    └─BatchNorm2d: 3-65            1,024\n",
              "│    │    └─ReLU: 3-66                   --\n",
              "│    └─Sequential: 2-15                  --\n",
              "│    │    └─Conv2d: 3-67                 10,240\n",
              "│    │    └─BatchNorm2d: 3-68            1,024\n",
              "│    │    └─ReLU: 3-69                   --\n",
              "│    │    └─Conv2d: 3-70                 525,312\n",
              "│    │    └─BatchNorm2d: 3-71            1,024\n",
              "│    │    └─ReLU: 3-72                   --\n",
              "│    └─Sequential: 2-16                  --\n",
              "│    │    └─Conv2d: 3-73                 10,240\n",
              "│    │    └─BatchNorm2d: 3-74            2,048\n",
              "│    │    └─ReLU: 3-75                   --\n",
              "│    │    └─Conv2d: 3-76                 1,049,600\n",
              "│    │    └─BatchNorm2d: 3-77            2,048\n",
              "│    │    └─ReLU: 3-78                   --\n",
              "│    └─AvgPool2d: 2-17                   --\n",
              "├─Linear: 1-2                            10,250\n",
              "=================================================================\n",
              "Total params: 3,236,106\n",
              "Trainable params: 3,236,106\n",
              "Non-trainable params: 0\n",
              "================================================================="
            ]
          },
          "metadata": {},
          "execution_count": 4
        }
      ]
    },
    {
      "cell_type": "code",
      "source": [],
      "metadata": {
        "id": "DitFTU5_es6n"
      },
      "execution_count": null,
      "outputs": []
    }
  ]
}